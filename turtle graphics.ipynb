{
 "cells": [
  {
   "cell_type": "code",
   "execution_count": 1,
   "metadata": {},
   "outputs": [],
   "source": [
    "import turtle as tu"
   ]
  },
  {
   "cell_type": "code",
   "execution_count": null,
   "metadata": {},
   "outputs": [],
   "source": [
    "t = tu.Turtle()\n",
    "s = tu.Screen()\n",
    "s.bgcolor('black')\n",
    "t.pencolor('blue')\n",
    "t.speed(0)\n",
    "c = 0\n",
    "while True:\n",
    "    for i in range(6):\n",
    "        t.forward(100)\n",
    "        t.right(110)\n",
    "    t.right(5)\n",
    "    c += 1\n",
    "    if c >= 360/5:\n",
    "        break\n",
    "t.hideturtle()\n",
    "tu.done()"
   ]
  },
  {
   "cell_type": "code",
   "execution_count": null,
   "metadata": {},
   "outputs": [],
   "source": []
  },
  {
   "cell_type": "code",
   "execution_count": null,
   "metadata": {},
   "outputs": [],
   "source": []
  }
 ],
 "metadata": {
  "kernelspec": {
   "display_name": "Python 3",
   "language": "python",
   "name": "python3"
  },
  "language_info": {
   "codemirror_mode": {
    "name": "ipython",
    "version": 3
   },
   "file_extension": ".py",
   "mimetype": "text/x-python",
   "name": "python",
   "nbconvert_exporter": "python",
   "pygments_lexer": "ipython3",
   "version": "3.7.6"
  }
 },
 "nbformat": 4,
 "nbformat_minor": 4
}
