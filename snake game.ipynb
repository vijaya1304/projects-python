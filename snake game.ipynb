{
 "cells": [
  {
   "cell_type": "code",
   "execution_count": 1,
   "metadata": {},
   "outputs": [
    {
     "name": "stdout",
     "output_type": "stream",
     "text": [
      "Collecting pygame\n",
      "  Downloading pygame-1.9.6-cp37-cp37m-win_amd64.whl (4.3 MB)\n",
      "Installing collected packages: pygame\n",
      "Successfully installed pygame-1.9.6\n",
      "Note: you may need to restart the kernel to use updated packages.\n"
     ]
    },
    {
     "name": "stderr",
     "output_type": "stream",
     "text": [
      "WARNING: You are using pip version 20.1.1; however, version 20.2 is available.\n",
      "You should consider upgrading via the 'C:\\Users\\vijay\\anaconda3\\python.exe -m pip install --upgrade pip' command.\n"
     ]
    }
   ],
   "source": [
    "pip install pygame"
   ]
  },
  {
   "cell_type": "code",
   "execution_count": 2,
   "metadata": {},
   "outputs": [
    {
     "name": "stdout",
     "output_type": "stream",
     "text": [
      "pygame 1.9.6\n",
      "Hello from the pygame community. https://www.pygame.org/contribute.html\n"
     ]
    }
   ],
   "source": [
    "import pygame"
   ]
  },
  {
   "cell_type": "code",
   "execution_count": 3,
   "metadata": {},
   "outputs": [],
   "source": [
    "import random"
   ]
  },
  {
   "cell_type": "code",
   "execution_count": 4,
   "metadata": {},
   "outputs": [
    {
     "data": {
      "text/plain": [
       "(6, 0)"
      ]
     },
     "execution_count": 4,
     "metadata": {},
     "output_type": "execute_result"
    }
   ],
   "source": [
    "pygame.init()"
   ]
  },
  {
   "cell_type": "code",
   "execution_count": 5,
   "metadata": {},
   "outputs": [],
   "source": [
    "#colors\n",
    "white = (255, 255, 255)\n",
    "red = (255, 0, 0)\n",
    "black = (0, 0, 0)"
   ]
  },
  {
   "cell_type": "code",
   "execution_count": 7,
   "metadata": {},
   "outputs": [],
   "source": [
    "#creating window\n",
    "screen_width = 1000\n",
    "screen_height = 700\n",
    "gameWindow = pygame.display.set_mode((screen_width, screen_height))"
   ]
  },
  {
   "cell_type": "code",
   "execution_count": 8,
   "metadata": {},
   "outputs": [],
   "source": [
    "pygame.display.set_caption(\"snake game\")\n",
    "pygame.display.update()\n",
    "clock = pygame.time.Clock()\n",
    "font = pygame.font.SysFont(None, 55)"
   ]
  },
  {
   "cell_type": "code",
   "execution_count": 9,
   "metadata": {},
   "outputs": [],
   "source": [
    "def text_screen(text, color, x, y):\n",
    "    screen_text = font.render(text, True, color)\n",
    "    gameWindow.blit(screen_text, [x,y])"
   ]
  },
  {
   "cell_type": "code",
   "execution_count": 10,
   "metadata": {},
   "outputs": [],
   "source": [
    "def plot_snake(gameWindow, color, snk_list, snake_size):\n",
    "    for x,y in snk_list:\n",
    "        pygame.draw.rect(gameWindow, color, [x, y, snake_size, snake_size])"
   ]
  },
  {
   "cell_type": "code",
   "execution_count": null,
   "metadata": {},
   "outputs": [],
   "source": [
    "def gameloop():\n",
    "    exit_game = False\n",
    "    game_over = False\n",
    "    snake_x = 45\n",
    "    snake_y = 55\n",
    "    velocity_x = 0\n",
    "    velocity_y = 0\n",
    "    snk_list = []\n",
    "    snk_length = 1\n",
    "\n",
    "    food_x = random.randint(20, screen_width-20)\n",
    "    food_y = random.randint(60, screen_height -20)\n",
    "    score = 0\n",
    "    init_velocity = 4\n",
    "    snake_size = 30\n",
    "    fps = 60   # fps = frames per second\n",
    "    while not exit_game:\n",
    "        if game_over:\n",
    "            gameWindow.fill(white)\n",
    "            text_screen(\"Game Over! Press Enter To Continue\", red, 100, 250)\n",
    "\n",
    "            for event in pygame.event.get():\n",
    "                if event.type == pygame.QUIT:\n",
    "                    exit_game = True\n",
    "\n",
    "                if event.type == pygame.KEYDOWN:\n",
    "                    if event.key == pygame.K_RETURN:\n",
    "                        gameloop()\n",
    "\n",
    "        else:\n",
    "\n",
    "            for event in pygame.event.get():\n",
    "                if event.type == pygame.QUIT:\n",
    "                    exit_game = True\n",
    "\n",
    "                if event.type == pygame.KEYDOWN:\n",
    "                    if event.key == pygame.K_RIGHT:\n",
    "                        velocity_x = init_velocity\n",
    "                        velocity_y = 0\n",
    "\n",
    "                    if event.key == pygame.K_LEFT:\n",
    "                        velocity_x = - init_velocity\n",
    "                        velocity_y = 0\n",
    "\n",
    "                    if event.key == pygame.K_UP:\n",
    "                        velocity_y = - init_velocity\n",
    "                        velocity_x = 0\n",
    "\n",
    "                    if event.key == pygame.K_DOWN:\n",
    "                        velocity_y = init_velocity\n",
    "                        velocity_x = 0\n",
    "\n",
    "            snake_x = snake_x + velocity_x\n",
    "            snake_y = snake_y + velocity_y\n",
    "\n",
    "            if abs(snake_x - food_x)<10 and abs(snake_y - food_y)<10:\n",
    "                score +=1\n",
    "                food_x = random.randint(20, screen_width - 30)\n",
    "                food_y = random.randint(60, screen_height - 30)\n",
    "                snk_length +=5\n",
    "\n",
    "            gameWindow.fill(white)\n",
    "            text_screen(\"Score: \" + str(score * 10), red, 5, 5)\n",
    "            pygame.draw.rect(gameWindow, red, [food_x, food_y, snake_size, snake_size])\n",
    "            pygame.draw.line(gameWindow, red, (0,40), (900,40),5)\n",
    "\n",
    "            head = []\n",
    "            head.append(snake_x)\n",
    "            head.append(snake_y)\n",
    "            snk_list.append(head)\n",
    "\n",
    "            if len(snk_list)>snk_length:\n",
    "                del snk_list[0]\n",
    "\n",
    "            if head in snk_list[:-1]:\n",
    "                game_over = True\n",
    "\n",
    "            if snake_x<0 or snake_x>screen_width-20 or snake_y<50 or snake_y>screen_height-20:\n",
    "                game_over = True\n",
    "            plot_snake(gameWindow, black, snk_list, snake_size)\n",
    "        pygame.display.update()\n",
    "        clock.tick(fps)\n",
    "    pygame.quit()\n",
    "    quit()\n",
    "gameloop()"
   ]
  },
  {
   "cell_type": "code",
   "execution_count": null,
   "metadata": {},
   "outputs": [],
   "source": []
  }
 ],
 "metadata": {
  "kernelspec": {
   "display_name": "Python 3",
   "language": "python",
   "name": "python3"
  },
  "language_info": {
   "codemirror_mode": {
    "name": "ipython",
    "version": 3
   },
   "file_extension": ".py",
   "mimetype": "text/x-python",
   "name": "python",
   "nbconvert_exporter": "python",
   "pygments_lexer": "ipython3",
   "version": "3.7.6"
  }
 },
 "nbformat": 4,
 "nbformat_minor": 4
}
