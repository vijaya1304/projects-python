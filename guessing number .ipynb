{
 "cells": [
  {
   "cell_type": "code",
   "execution_count": 1,
   "metadata": {},
   "outputs": [],
   "source": [
    "import random"
   ]
  },
  {
   "cell_type": "code",
   "execution_count": 2,
   "metadata": {},
   "outputs": [],
   "source": [
    "correct_num = random.choice(range(1,50))"
   ]
  },
  {
   "cell_type": "code",
   "execution_count": null,
   "metadata": {},
   "outputs": [
    {
     "name": "stdout",
     "output_type": "stream",
     "text": [
      "what is your guess? >40\n",
      "your guess is high, please try again\n",
      "what is your guess? >12\n",
      "your guess is low, try again\n",
      "what is your guess? >35\n",
      "your guess is high, please try again\n",
      "what is your guess? >100\n",
      "your guess is high, please try again\n",
      "what is your guess? >1\n",
      "your guess is low, try again\n",
      "what is your guess? >15\n",
      "your guess is low, try again\n",
      "what is your guess? >20\n",
      "your guess is low, try again\n",
      "what is your guess? >45\n",
      "your guess is high, please try again\n",
      "what is your guess? >55\n",
      "your guess is high, please try again\n"
     ]
    }
   ],
   "source": [
    "correct = False\n",
    "while correct != True:\n",
    "    predicted = int(input(\"what is your guess? >\"))\n",
    "    if predicted == correct_num:\n",
    "        print(\"your guess is correct\")\n",
    "        correct = True\n",
    "    elif predicted > correct_num:\n",
    "        print(\"your guess is high, please try again\")\n",
    "    elif predicted < correct_num:\n",
    "        print(\"your guess is low, try again\")\n",
    "    else:\n",
    "        print(\"you have entered the wrong num\")"
   ]
  },
  {
   "cell_type": "code",
   "execution_count": null,
   "metadata": {},
   "outputs": [],
   "source": []
  }
 ],
 "metadata": {
  "kernelspec": {
   "display_name": "Python 3",
   "language": "python",
   "name": "python3"
  },
  "language_info": {
   "codemirror_mode": {
    "name": "ipython",
    "version": 3
   },
   "file_extension": ".py",
   "mimetype": "text/x-python",
   "name": "python",
   "nbconvert_exporter": "python",
   "pygments_lexer": "ipython3",
   "version": "3.7.6"
  }
 },
 "nbformat": 4,
 "nbformat_minor": 4
}
